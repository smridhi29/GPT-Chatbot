{
 "cells": [
  {
   "cell_type": "code",
   "execution_count": null,
   "metadata": {},
   "outputs": [],
   "source": [
    "! pip install gpt_index"
   ]
  },
  {
   "cell_type": "code",
   "execution_count": null,
   "metadata": {},
   "outputs": [],
   "source": [
    "! pip install langchain\n",
    "! pip install llama-index\n"
   ]
  },
  {
   "cell_type": "code",
   "execution_count": null,
   "metadata": {},
   "outputs": [],
   "source": [
    "! pip install transformers"
   ]
  },
  {
   "cell_type": "code",
   "execution_count": 68,
   "metadata": {},
   "outputs": [],
   "source": [
    "from gpt_index import SimpleDirectoryReader, GPTListIndex, GPTSimpleVectorIndex, LLMPredictor, PromptHelper, ServiceContext\n",
    "from langchain import OpenAI\n",
    "import sys\n",
    "import os\n"
   ]
  },
  {
   "cell_type": "code",
   "execution_count": 69,
   "metadata": {},
   "outputs": [],
   "source": [
    "os.environ[\"OPENAI_API_KEY\"]=\"<YOUR API KEY>\""
   ]
  },
  {
   "cell_type": "code",
   "execution_count": 70,
   "metadata": {},
   "outputs": [],
   "source": [
    "def createVectorIndex(path):\n",
    "    max_input = 4096\n",
    "    tokens=256\n",
    "    chunk_size=600\n",
    "    max_chunk_overlap=20\n",
    "\n",
    "    prompt_helper = PromptHelper(max_input, tokens, max_chunk_overlap, chunk_size_limit=chunk_size)\n",
    "\n",
    "    #define LLM\n",
    "    llmPredictor= LLMPredictor(llm=OpenAI(temperature=0, model_name=\"text-ada-001\", max_tokens=tokens))\n",
    "\n",
    "    #load data\n",
    "    docs = SimpleDirectoryReader(path).load_data()\n",
    "    service_context= ServiceContext.from_defaults(llm_predictor= llmPredictor, prompt_helper=PromptHelper)\n",
    "    vectorIndex= GPTSimpleVectorIndex.from_documents(documents=docs, service_context=service_context )\n",
    "    \n",
    "    #create vector index\n",
    "    #vectorIndex= GPTSimpleVectorIndex(documents=docs, llm_predictor=llmPredictor, prompt_helper=prompt_helper)\n",
    "    vectorIndex.save_to_disk('vectorIndex.json')\n",
    "    return vectorIndex"
   ]
  },
  {
   "cell_type": "code",
   "execution_count": null,
   "metadata": {},
   "outputs": [],
   "source": [
    "vectorIndex = createVectorIndex('Knowledge')\n"
   ]
  },
  {
   "cell_type": "code",
   "execution_count": null,
   "metadata": {},
   "outputs": [],
   "source": [
    "def answerMe(vectorIndex):\n",
    "    vIndex= GPTSimpleVectorIndex.load_from_disk(vectorIndex)\n",
    "    while True:\n",
    "        prompt = input('Please ask  your question: ')\n",
    "        response = vIndex.query(prompt, response_mode=\"compact\")\n",
    "        print(f\"Response: {response} \\n\")"
   ]
  },
  {
   "cell_type": "code",
   "execution_count": null,
   "metadata": {},
   "outputs": [],
   "source": [
    "def answerMe(vectorIndex):\n",
    "    vIndex= GPTSimpleVectorIndex.load_from_disk(vectorIndex)\n",
    "    while True:\n",
    "        prompt = input('Please ask  your question: ')\n",
    "        response = vIndex.query(prompt, response_mode=\"compact\")\n",
    "        print(f\"Response: {response} \\n\")"
   ]
  }
 ],
 "metadata": {
  "kernelspec": {
   "display_name": "Python 3",
   "language": "python",
   "name": "python3"
  },
  "language_info": {
   "codemirror_mode": {
    "name": "ipython",
    "version": 3
   },
   "file_extension": ".py",
   "mimetype": "text/x-python",
   "name": "python",
   "nbconvert_exporter": "python",
   "pygments_lexer": "ipython3",
   "version": "3.8.4"
  },
  "orig_nbformat": 4
 },
 "nbformat": 4,
 "nbformat_minor": 2
}
